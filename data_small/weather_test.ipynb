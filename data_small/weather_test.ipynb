{
 "cells": [
  {
   "cell_type": "markdown",
   "id": "b628bf69-5e6c-4718-ab38-00d3e50c7548",
   "metadata": {},
   "source": [
    "## Load dataframe"
   ]
  },
  {
   "cell_type": "code",
   "execution_count": 9,
   "id": "2a357c0e-1115-4b7a-9c55-212e6e8df64e",
   "metadata": {},
   "outputs": [],
   "source": [
    "import pandas as pd"
   ]
  },
  {
   "cell_type": "code",
   "execution_count": 10,
   "id": "374f2125-468a-4615-aa3b-c6485fdf66cf",
   "metadata": {},
   "outputs": [],
   "source": [
    "df = pd.read_csv(\"TG_STAID000001.txt\", skiprows=20, parse_dates=[\"    DATE\"])"
   ]
  },
  {
   "cell_type": "code",
   "execution_count": 11,
   "id": "e29b6c76-b948-4317-bba1-8404feb2ad4d",
   "metadata": {},
   "outputs": [
    {
     "data": {
      "text/plain": [
       "Index(['STAID', ' SOUID', '    DATE', '   TG', ' Q_TG'], dtype='object')"
      ]
     },
     "execution_count": 11,
     "metadata": {},
     "output_type": "execute_result"
    }
   ],
   "source": [
    "df.columns"
   ]
  },
  {
   "cell_type": "code",
   "execution_count": 12,
   "id": "7782f3d4-2d8e-4c84-a735-4bb2acb8bcee",
   "metadata": {},
   "outputs": [
    {
     "data": {
      "text/plain": [
       "np.float64(6.360787526128467)"
      ]
     },
     "execution_count": 12,
     "metadata": {},
     "output_type": "execute_result"
    }
   ],
   "source": [
    "df.loc[df['   TG'] != -9999] ['   TG'].mean() / 10"
   ]
  },
  {
   "cell_type": "code",
   "execution_count": 13,
   "id": "d68e5b3e-5cba-4eb3-92ca-45e73d7fa5da",
   "metadata": {},
   "outputs": [
    {
     "data": {
      "text/plain": [
       "np.float64(26.2)"
      ]
     },
     "execution_count": 13,
     "metadata": {},
     "output_type": "execute_result"
    }
   ],
   "source": [
    "df.loc[df['   TG'] != -9999] ['   TG'].max() / 10"
   ]
  },
  {
   "cell_type": "code",
   "execution_count": 14,
   "id": "f29b9158-178d-4630-a41e-ed695d49b69b",
   "metadata": {},
   "outputs": [
    {
     "data": {
      "text/plain": [
       "np.float64(-28.8)"
      ]
     },
     "execution_count": 14,
     "metadata": {},
     "output_type": "execute_result"
    }
   ],
   "source": [
    "df.loc[df['   TG'] != -9999] ['   TG'].min() / 10"
   ]
  },
  {
   "cell_type": "code",
   "execution_count": 17,
   "id": "3534f62e-0111-449e-8087-73d4418fa78b",
   "metadata": {},
   "outputs": [
    {
     "data": {
      "text/plain": [
       "<Axes: >"
      ]
     },
     "execution_count": 17,
     "metadata": {},
     "output_type": "execute_result"
    },
    {
     "data": {
      "image/png": "[encoded data removed]",
      "text/plain": [
       "<Figure size 640x480 with 1 Axes>"
      ]
     },
     "metadata": {},
     "output_type": "display_data"
    }
   ],
   "source": [
    "df.loc[df['   TG'] != -9999] ['   TG'].hist()"
   ]
  },
  {
   "cell_type": "markdown",
   "id": "1c066e9f-9eb8-4439-8ae4-d575bb7a9317",
   "metadata": {},
   "source": [
    "# Get certain cells"
   ]
  },
  {
   "cell_type": "code",
   "execution_count": 23,
   "id": "daeefed0-3287-4e05-bb28-1a79e070f5c5",
   "metadata": {},
   "outputs": [
    {
     "data": {
      "text/plain": [
       "np.float64(-15.5)"
      ]
     },
     "execution_count": 23,
     "metadata": {},
     "output_type": "execute_result"
    }
   ],
   "source": [
    "df.loc[df['    DATE'] == \"1969-01-01\"]['   TG'].squeeze() / 10"
   ]
  },
  {
   "cell_type": "code",
   "execution_count": 24,
   "id": "f6798ddc-85fb-40e3-a672-7bd7313d5f3b",
   "metadata": {},
   "outputs": [
    {
     "data": {
      "text/plain": [
       "Timestamp('1868-08-16 00:00:00')"
      ]
     },
     "execution_count": 24,
     "metadata": {},
     "output_type": "execute_result"
    }
   ],
   "source": [
    "df.loc[df['   TG'] == df['   TG'].max()]['    DATE'].squeeze()"
   ]
  },
  {
   "cell_type": "markdown",
   "id": "d0642641-31d2-4bca-9e44-524e5e7ce598",
   "metadata": {},
   "source": [
    "# Calculate new column from existing column"
   ]
  },
  {
   "cell_type": "code",
   "execution_count": 34,
   "id": "1d3f5b8f-94c9-4be9-aacb-304566e5a887",
   "metadata": {},
   "outputs": [],
   "source": [
    "import numpy as np\n",
    "df[\"TG0\"] = df['   TG'].mask(df['   TG']==-9999, np.nan)"
   ]
  },
  {
   "cell_type": "code",
   "execution_count": 37,
   "id": "063b3518-3d4e-4c37-ac7b-19f568e4d217",
   "metadata": {},
   "outputs": [],
   "source": [
    "df[\"TG\"] = df[\"TG0\"] / 10"
   ]
  },
  {
   "cell_type": "code",
   "execution_count": 38,
   "id": "2f58078b-9a5c-4959-b871-2f66458bdddb",
   "metadata": {},
   "outputs": [
    {
     "data": {
      "text/html": [
       "<div>\n",
       "<style scoped>\n",
       "    .dataframe tbody tr th:only-of-type {\n",
       "        vertical-align: middle;\n",
       "    }\n",
       "\n",
       "    .dataframe tbody tr th {\n",
       "        vertical-align: top;\n",
       "    }\n",
       "\n",
       "    .dataframe thead th {\n",
       "        text-align: right;\n",
       "    }\n",
       "</style>\n",
       "<table border=\"1\" class=\"dataframe\">\n",
       "  <thead>\n",
       "    <tr style=\"text-align: right;\">\n",
       "      <th></th>\n",
       "      <th>STAID</th>\n",
       "      <th>SOUID</th>\n",
       "      <th>DATE</th>\n",
       "      <th>TG</th>\n",
       "      <th>Q_TG</th>\n",
       "      <th>TG</th>\n",
       "      <th>Fahrenheit</th>\n",
       "      <th>TG0</th>\n",
       "    </tr>\n",
       "  </thead>\n",
       "  <tbody>\n",
       "    <tr>\n",
       "      <th>0</th>\n",
       "      <td>1</td>\n",
       "      <td>35381</td>\n",
       "      <td>1860-01-01</td>\n",
       "      <td>21</td>\n",
       "      <td>0</td>\n",
       "      <td>2.1</td>\n",
       "      <td>35.78</td>\n",
       "      <td>21.0</td>\n",
       "    </tr>\n",
       "    <tr>\n",
       "      <th>1</th>\n",
       "      <td>1</td>\n",
       "      <td>35381</td>\n",
       "      <td>1860-01-02</td>\n",
       "      <td>46</td>\n",
       "      <td>0</td>\n",
       "      <td>4.6</td>\n",
       "      <td>40.28</td>\n",
       "      <td>46.0</td>\n",
       "    </tr>\n",
       "    <tr>\n",
       "      <th>2</th>\n",
       "      <td>1</td>\n",
       "      <td>35381</td>\n",
       "      <td>1860-01-03</td>\n",
       "      <td>31</td>\n",
       "      <td>0</td>\n",
       "      <td>3.1</td>\n",
       "      <td>37.58</td>\n",
       "      <td>31.0</td>\n",
       "    </tr>\n",
       "    <tr>\n",
       "      <th>3</th>\n",
       "      <td>1</td>\n",
       "      <td>35381</td>\n",
       "      <td>1860-01-04</td>\n",
       "      <td>37</td>\n",
       "      <td>0</td>\n",
       "      <td>3.7</td>\n",
       "      <td>38.66</td>\n",
       "      <td>37.0</td>\n",
       "    </tr>\n",
       "    <tr>\n",
       "      <th>4</th>\n",
       "      <td>1</td>\n",
       "      <td>35381</td>\n",
       "      <td>1860-01-05</td>\n",
       "      <td>31</td>\n",
       "      <td>0</td>\n",
       "      <td>3.1</td>\n",
       "      <td>37.58</td>\n",
       "      <td>31.0</td>\n",
       "    </tr>\n",
       "    <tr>\n",
       "      <th>...</th>\n",
       "      <td>...</td>\n",
       "      <td>...</td>\n",
       "      <td>...</td>\n",
       "      <td>...</td>\n",
       "      <td>...</td>\n",
       "      <td>...</td>\n",
       "      <td>...</td>\n",
       "      <td>...</td>\n",
       "    </tr>\n",
       "    <tr>\n",
       "      <th>59316</th>\n",
       "      <td>1</td>\n",
       "      <td>35381</td>\n",
       "      <td>2022-05-27</td>\n",
       "      <td>-9999</td>\n",
       "      <td>9</td>\n",
       "      <td>NaN</td>\n",
       "      <td>-1767.82</td>\n",
       "      <td>NaN</td>\n",
       "    </tr>\n",
       "    <tr>\n",
       "      <th>59317</th>\n",
       "      <td>1</td>\n",
       "      <td>35381</td>\n",
       "      <td>2022-05-28</td>\n",
       "      <td>-9999</td>\n",
       "      <td>9</td>\n",
       "      <td>NaN</td>\n",
       "      <td>-1767.82</td>\n",
       "      <td>NaN</td>\n",
       "    </tr>\n",
       "    <tr>\n",
       "      <th>59318</th>\n",
       "      <td>1</td>\n",
       "      <td>35381</td>\n",
       "      <td>2022-05-29</td>\n",
       "      <td>-9999</td>\n",
       "      <td>9</td>\n",
       "      <td>NaN</td>\n",
       "      <td>-1767.82</td>\n",
       "      <td>NaN</td>\n",
       "    </tr>\n",
       "    <tr>\n",
       "      <th>59319</th>\n",
       "      <td>1</td>\n",
       "      <td>35381</td>\n",
       "      <td>2022-05-30</td>\n",
       "      <td>-9999</td>\n",
       "      <td>9</td>\n",
       "      <td>NaN</td>\n",
       "      <td>-1767.82</td>\n",
       "      <td>NaN</td>\n",
       "    </tr>\n",
       "    <tr>\n",
       "      <th>59320</th>\n",
       "      <td>1</td>\n",
       "      <td>35381</td>\n",
       "      <td>2022-05-31</td>\n",
       "      <td>-9999</td>\n",
       "      <td>9</td>\n",
       "      <td>NaN</td>\n",
       "      <td>-1767.82</td>\n",
       "      <td>NaN</td>\n",
       "    </tr>\n",
       "  </tbody>\n",
       "</table>\n",
       "<p>59321 rows × 8 columns</p>\n",
       "</div>"
      ],
      "text/plain": [
       "       STAID   SOUID       DATE     TG   Q_TG   TG  Fahrenheit   TG0\n",
       "0          1   35381 1860-01-01     21      0  2.1       35.78  21.0\n",
       "1          1   35381 1860-01-02     46      0  4.6       40.28  46.0\n",
       "2          1   35381 1860-01-03     31      0  3.1       37.58  31.0\n",
       "3          1   35381 1860-01-04     37      0  3.7       38.66  37.0\n",
       "4          1   35381 1860-01-05     31      0  3.1       37.58  31.0\n",
       "...      ...     ...        ...    ...    ...  ...         ...   ...\n",
       "59316      1   35381 2022-05-27  -9999      9  NaN    -1767.82   NaN\n",
       "59317      1   35381 2022-05-28  -9999      9  NaN    -1767.82   NaN\n",
       "59318      1   35381 2022-05-29  -9999      9  NaN    -1767.82   NaN\n",
       "59319      1   35381 2022-05-30  -9999      9  NaN    -1767.82   NaN\n",
       "59320      1   35381 2022-05-31  -9999      9  NaN    -1767.82   NaN\n",
       "\n",
       "[59321 rows x 8 columns]"
      ]
     },
     "execution_count": 38,
     "metadata": {},
     "output_type": "execute_result"
    }
   ],
   "source": [
    "df"
   ]
  },
  {
   "cell_type": "code",
   "execution_count": 30,
   "id": "18f7f7c4-3b06-4341-89a2-2d6cd5b4fdc3",
   "metadata": {},
   "outputs": [],
   "source": [
    "df[\"Fahrenheit\"] = df[\"TG\"] * (9/5) + 32"
   ]
  },
  {
   "cell_type": "code",
   "execution_count": 39,
   "id": "88683f92-4651-42a3-860f-f2873fcb205e",
   "metadata": {},
   "outputs": [
    {
     "data": {
      "text/html": [
       "<div>\n",
       "<style scoped>\n",
       "    .dataframe tbody tr th:only-of-type {\n",
       "        vertical-align: middle;\n",
       "    }\n",
       "\n",
       "    .dataframe tbody tr th {\n",
       "        vertical-align: top;\n",
       "    }\n",
       "\n",
       "    .dataframe thead th {\n",
       "        text-align: right;\n",
       "    }\n",
       "</style>\n",
       "<table border=\"1\" class=\"dataframe\">\n",
       "  <thead>\n",
       "    <tr style=\"text-align: right;\">\n",
       "      <th></th>\n",
       "      <th>STAID</th>\n",
       "      <th>SOUID</th>\n",
       "      <th>DATE</th>\n",
       "      <th>TG</th>\n",
       "      <th>Q_TG</th>\n",
       "      <th>TG</th>\n",
       "      <th>Fahrenheit</th>\n",
       "      <th>TG0</th>\n",
       "    </tr>\n",
       "  </thead>\n",
       "  <tbody>\n",
       "    <tr>\n",
       "      <th>0</th>\n",
       "      <td>1</td>\n",
       "      <td>35381</td>\n",
       "      <td>1860-01-01</td>\n",
       "      <td>21</td>\n",
       "      <td>0</td>\n",
       "      <td>2.1</td>\n",
       "      <td>35.78</td>\n",
       "      <td>21.0</td>\n",
       "    </tr>\n",
       "    <tr>\n",
       "      <th>1</th>\n",
       "      <td>1</td>\n",
       "      <td>35381</td>\n",
       "      <td>1860-01-02</td>\n",
       "      <td>46</td>\n",
       "      <td>0</td>\n",
       "      <td>4.6</td>\n",
       "      <td>40.28</td>\n",
       "      <td>46.0</td>\n",
       "    </tr>\n",
       "    <tr>\n",
       "      <th>2</th>\n",
       "      <td>1</td>\n",
       "      <td>35381</td>\n",
       "      <td>1860-01-03</td>\n",
       "      <td>31</td>\n",
       "      <td>0</td>\n",
       "      <td>3.1</td>\n",
       "      <td>37.58</td>\n",
       "      <td>31.0</td>\n",
       "    </tr>\n",
       "    <tr>\n",
       "      <th>3</th>\n",
       "      <td>1</td>\n",
       "      <td>35381</td>\n",
       "      <td>1860-01-04</td>\n",
       "      <td>37</td>\n",
       "      <td>0</td>\n",
       "      <td>3.7</td>\n",
       "      <td>38.66</td>\n",
       "      <td>37.0</td>\n",
       "    </tr>\n",
       "    <tr>\n",
       "      <th>4</th>\n",
       "      <td>1</td>\n",
       "      <td>35381</td>\n",
       "      <td>1860-01-05</td>\n",
       "      <td>31</td>\n",
       "      <td>0</td>\n",
       "      <td>3.1</td>\n",
       "      <td>37.58</td>\n",
       "      <td>31.0</td>\n",
       "    </tr>\n",
       "    <tr>\n",
       "      <th>...</th>\n",
       "      <td>...</td>\n",
       "      <td>...</td>\n",
       "      <td>...</td>\n",
       "      <td>...</td>\n",
       "      <td>...</td>\n",
       "      <td>...</td>\n",
       "      <td>...</td>\n",
       "      <td>...</td>\n",
       "    </tr>\n",
       "    <tr>\n",
       "      <th>59316</th>\n",
       "      <td>1</td>\n",
       "      <td>35381</td>\n",
       "      <td>2022-05-27</td>\n",
       "      <td>-9999</td>\n",
       "      <td>9</td>\n",
       "      <td>NaN</td>\n",
       "      <td>-1767.82</td>\n",
       "      <td>NaN</td>\n",
       "    </tr>\n",
       "    <tr>\n",
       "      <th>59317</th>\n",
       "      <td>1</td>\n",
       "      <td>35381</td>\n",
       "      <td>2022-05-28</td>\n",
       "      <td>-9999</td>\n",
       "      <td>9</td>\n",
       "      <td>NaN</td>\n",
       "      <td>-1767.82</td>\n",
       "      <td>NaN</td>\n",
       "    </tr>\n",
       "    <tr>\n",
       "      <th>59318</th>\n",
       "      <td>1</td>\n",
       "      <td>35381</td>\n",
       "      <td>2022-05-29</td>\n",
       "      <td>-9999</td>\n",
       "      <td>9</td>\n",
       "      <td>NaN</td>\n",
       "      <td>-1767.82</td>\n",
       "      <td>NaN</td>\n",
       "    </tr>\n",
       "    <tr>\n",
       "      <th>59319</th>\n",
       "      <td>1</td>\n",
       "      <td>35381</td>\n",
       "      <td>2022-05-30</td>\n",
       "      <td>-9999</td>\n",
       "      <td>9</td>\n",
       "      <td>NaN</td>\n",
       "      <td>-1767.82</td>\n",
       "      <td>NaN</td>\n",
       "    </tr>\n",
       "    <tr>\n",
       "      <th>59320</th>\n",
       "      <td>1</td>\n",
       "      <td>35381</td>\n",
       "      <td>2022-05-31</td>\n",
       "      <td>-9999</td>\n",
       "      <td>9</td>\n",
       "      <td>NaN</td>\n",
       "      <td>-1767.82</td>\n",
       "      <td>NaN</td>\n",
       "    </tr>\n",
       "  </tbody>\n",
       "</table>\n",
       "<p>59321 rows × 8 columns</p>\n",
       "</div>"
      ],
      "text/plain": [
       "       STAID   SOUID       DATE     TG   Q_TG   TG  Fahrenheit   TG0\n",
       "0          1   35381 1860-01-01     21      0  2.1       35.78  21.0\n",
       "1          1   35381 1860-01-02     46      0  4.6       40.28  46.0\n",
       "2          1   35381 1860-01-03     31      0  3.1       37.58  31.0\n",
       "3          1   35381 1860-01-04     37      0  3.7       38.66  37.0\n",
       "4          1   35381 1860-01-05     31      0  3.1       37.58  31.0\n",
       "...      ...     ...        ...    ...    ...  ...         ...   ...\n",
       "59316      1   35381 2022-05-27  -9999      9  NaN    -1767.82   NaN\n",
       "59317      1   35381 2022-05-28  -9999      9  NaN    -1767.82   NaN\n",
       "59318      1   35381 2022-05-29  -9999      9  NaN    -1767.82   NaN\n",
       "59319      1   35381 2022-05-30  -9999      9  NaN    -1767.82   NaN\n",
       "59320      1   35381 2022-05-31  -9999      9  NaN    -1767.82   NaN\n",
       "\n",
       "[59321 rows x 8 columns]"
      ]
     },
     "execution_count": 39,
     "metadata": {},
     "output_type": "execute_result"
    }
   ],
   "source": [
    "df"
   ]
  },
  {
   "cell_type": "markdown",
   "id": "63507280-1d6c-4a2f-b130-cf55a9943e17",
   "metadata": {},
   "source": [
    "# Plotting"
   ]
  },
  {
   "cell_type": "code",
   "execution_count": 40,
   "id": "15da5db1-a1be-4bb7-bd97-1ea1a921ddbc",
   "metadata": {},
   "outputs": [
    {
     "data": {
      "text/plain": [
       "<Axes: >"
      ]
     },
     "execution_count": 40,
     "metadata": {},
     "output_type": "execute_result"
    },
    {
     "data": {
      "image/png": "[encoded data removed]",
      "text/plain": [
       "<Figure size 640x480 with 1 Axes>"
      ]
     },
     "metadata": {},
     "output_type": "display_data"
    }
   ],
   "source": [
    "df[\"TG\"].hist()"
   ]
  },
  {
   "cell_type": "code",
   "execution_count": 46,
   "id": "6b477a2f-9c4d-4d29-8fdd-6be9226155d0",
   "metadata": {},
   "outputs": [
    {
     "data": {
      "text/plain": [
       "<Axes: xlabel='    DATE'>"
      ]
     },
     "execution_count": 46,
     "metadata": {},
     "output_type": "execute_result"
    },
    {
     "data": {
      "image/png": "[encoded data removed]",
      "text/plain": [
       "<Figure size 1500x300 with 1 Axes>"
      ]
     },
     "metadata": {},
     "output_type": "display_data"
    }
   ],
   "source": [
    "df[0:366].plot(x='    DATE', y=\"TG\", figsize=(15, 3))"
   ]
  }
 ],
 "metadata": {
  "kernelspec": {
   "display_name": "Python 3 (ipykernel)",
   "language": "python",
   "name": "python3"
  },
  "language_info": {
   "codemirror_mode": {
    "name": "ipython",
    "version": 3
   },
   "file_extension": ".py",
   "mimetype": "text/x-python",
   "name": "python",
   "nbconvert_exporter": "python",
   "pygments_lexer": "ipython3",
   "version": "3.13.1"
  }
 },
 "nbformat": 4,
 "nbformat_minor": 5
}
